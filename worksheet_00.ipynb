{
  "cells": [
    {
      "cell_type": "markdown",
      "metadata": {
        "id": "view-in-github",
        "colab_type": "text"
      },
      "source": [
        "<a href=\"https://colab.research.google.com/github/TianyiGao616/Data-Science-Fundamentals/blob/main/worksheet_00.ipynb\" target=\"_parent\"><img src=\"https://colab.research.google.com/assets/colab-badge.svg\" alt=\"Open In Colab\"/></a>"
      ]
    },
    {
      "cell_type": "markdown",
      "metadata": {
        "id": "et1xTrFwI9Y9"
      },
      "source": [
        "# Worksheet 00\n",
        "\n",
        "Name:  Tianyi Gao\n",
        "UID: U02937883\n",
        "\n",
        "### Topics\n",
        "\n",
        "- course overview\n",
        "- python review\n",
        "\n",
        "### Course Overview\n",
        "\n",
        "a) Why are you taking this course?\n",
        "1. I heard many of upper classes friends said this course is very useful and they learnd a lot, so I want to take this course to fullfill the elective course requirment.\n",
        "2. Since I want to get to a lab this year, I need to get some data analysis skills to improve data analyse skill.\n",
        "3. want to get a job"
      ]
    },
    {
      "cell_type": "markdown",
      "metadata": {
        "id": "n43HIcjFI9ZA"
      },
      "source": [
        "b) What are your academic and professional goals for this semester?\n",
        "1. learn and get a good grade in my four courses\n",
        "2. find a research lab related to my major and my academic goal\n",
        "3. make new friends\n",
        "4. continue finding the major I want to pursue in phd degree"
      ]
    },
    {
      "cell_type": "markdown",
      "metadata": {
        "id": "wm5bchEmI9ZA"
      },
      "source": [
        "c) Do you have previous Data Science experience? If so, please expand.\n",
        "\n",
        "I had two statstics classes last semester, but they are math courses, so not related too much with data science.\n"
      ]
    },
    {
      "cell_type": "markdown",
      "metadata": {
        "id": "34CwPjrVI9ZA"
      },
      "source": [
        "d) Data Science is a combination of programming, math (linear algebra and calculus), and statistics. Which of these three do you struggle with the most (you may pick more than one)?"
      ]
    },
    {
      "cell_type": "markdown",
      "metadata": {
        "id": "jsXnoAZaI9ZA"
      },
      "source": [
        "programming is the most difficult one for me. I'm pretty good at math and stats, but coding has totally different logic with math. I'm not good at coding in any language.."
      ]
    },
    {
      "cell_type": "markdown",
      "metadata": {
        "id": "ey-yuRZzI9ZA"
      },
      "source": [
        "### Python review\n",
        "\n",
        "#### Lambda functions\n",
        "\n",
        "Python supports the creation of anonymous functions (i.e. functions that are not bound to a name) at runtime, using a construct called `lambda`. Instead of writing a named function as such:"
      ]
    },
    {
      "cell_type": "code",
      "execution_count": null,
      "metadata": {
        "id": "vExJ0Ux5I9ZB",
        "outputId": "acc1df92-39e8-40e6-cd43-ac4a8ba7c617",
        "colab": {
          "base_uri": "https://localhost:8080/"
        }
      },
      "outputs": [
        {
          "output_type": "execute_result",
          "data": {
            "text/plain": [
              "64"
            ]
          },
          "metadata": {},
          "execution_count": 72
        }
      ],
      "source": [
        "def f(x):\n",
        "    return x**2\n",
        "f(8)"
      ]
    },
    {
      "cell_type": "markdown",
      "metadata": {
        "id": "wC6nbq-VI9ZC"
      },
      "source": [
        "One can write an anonymous function as such:"
      ]
    },
    {
      "cell_type": "code",
      "execution_count": null,
      "metadata": {
        "id": "nx4R1W8TI9ZC",
        "outputId": "f71186bc-1fc4-4b9c-cde2-9e61a4498828",
        "colab": {
          "base_uri": "https://localhost:8080/"
        }
      },
      "outputs": [
        {
          "output_type": "execute_result",
          "data": {
            "text/plain": [
              "64"
            ]
          },
          "metadata": {},
          "execution_count": 73
        }
      ],
      "source": [
        "(lambda x: x**2)(8)"
      ]
    },
    {
      "cell_type": "markdown",
      "metadata": {
        "id": "wWikpd5tI9ZC"
      },
      "source": [
        "A `lambda` function can take multiple arguments:"
      ]
    },
    {
      "cell_type": "code",
      "execution_count": null,
      "metadata": {
        "id": "4ishOlpzI9ZD",
        "outputId": "d0fc6bd1-85a7-4c10-deb8-87045e713dcb",
        "colab": {
          "base_uri": "https://localhost:8080/"
        }
      },
      "outputs": [
        {
          "output_type": "execute_result",
          "data": {
            "text/plain": [
              "5"
            ]
          },
          "metadata": {},
          "execution_count": 74
        }
      ],
      "source": [
        "(lambda x, y : x + y)(2, 3)"
      ]
    },
    {
      "cell_type": "markdown",
      "metadata": {
        "id": "_-0NzbJlI9ZD"
      },
      "source": [
        "The arguments can be `lambda` functions themselves:"
      ]
    },
    {
      "cell_type": "code",
      "execution_count": null,
      "metadata": {
        "id": "NBMOuy9_I9ZD",
        "outputId": "46e5d9c2-afee-43fb-add5-fce4e33411c6",
        "colab": {
          "base_uri": "https://localhost:8080/"
        }
      },
      "outputs": [
        {
          "output_type": "execute_result",
          "data": {
            "text/plain": [
              "7"
            ]
          },
          "metadata": {},
          "execution_count": 75
        }
      ],
      "source": [
        "(lambda x : x(4))(lambda y: 3 + y)"
      ]
    },
    {
      "cell_type": "markdown",
      "metadata": {
        "id": "eEaqXoW8I9ZD"
      },
      "source": [
        "a) write a `lambda` function that takes three arguments `x, y, z` and returns `True` only if `x < y < z`."
      ]
    },
    {
      "cell_type": "code",
      "execution_count": null,
      "metadata": {
        "id": "h34Wotb7I9ZD",
        "colab": {
          "base_uri": "https://localhost:8080/"
        },
        "outputId": "840e09ca-a95b-4f05-bf25-f081362ba2ba"
      },
      "outputs": [
        {
          "output_type": "stream",
          "name": "stdout",
          "text": [
            "True\n"
          ]
        }
      ],
      "source": [
        "order = lambda x, y, z: x < y and y < z\n",
        "compare = order (1,2,3)\n",
        "print(compare)"
      ]
    },
    {
      "cell_type": "markdown",
      "metadata": {
        "id": "PI_hPyqkI9ZD"
      },
      "source": [
        "b) write a `lambda` function that takes a parameter `n` and returns a lambda function that will multiply any input it receives by `n`. For example, if we called this function `g`, then `g(n)(2) = 2n`"
      ]
    },
    {
      "cell_type": "code",
      "execution_count": null,
      "metadata": {
        "id": "gupylUqzI9ZD",
        "colab": {
          "base_uri": "https://localhost:8080/"
        },
        "outputId": "5b686511-f64a-464d-80d9-b1aa71eea749"
      },
      "outputs": [
        {
          "output_type": "stream",
          "name": "stdout",
          "text": [
            "6\n"
          ]
        }
      ],
      "source": [
        "g = lambda n : lambda x : x * n\n",
        "result = g(3)(2)\n",
        "print(result)"
      ]
    },
    {
      "cell_type": "markdown",
      "metadata": {
        "id": "r_Pyx3erI9ZD"
      },
      "source": [
        "#### Map\n",
        "\n",
        "`map(func, s)`\n",
        "\n",
        "`func` is a function and `s` is a sequence (e.g., a list).\n",
        "\n",
        "`map()` returns an object that will apply function `func` to each of the elements of `s`.\n",
        "\n",
        "For example if you want to multiply every element in a list by 2 you can write the following:"
      ]
    },
    {
      "cell_type": "code",
      "execution_count": null,
      "metadata": {
        "id": "xLfApJEoI9ZD",
        "outputId": "806ba626-65c2-4c19-b1b9-58c393666c90",
        "colab": {
          "base_uri": "https://localhost:8080/"
        }
      },
      "outputs": [
        {
          "output_type": "stream",
          "name": "stdout",
          "text": [
            "[2, 4, 6, 8, 10]\n"
          ]
        }
      ],
      "source": [
        "mylist = [1, 2, 3, 4, 5]\n",
        "mylist_mul_by_2 = map(lambda x : 2 * x, mylist)\n",
        "print(list(mylist_mul_by_2))"
      ]
    },
    {
      "cell_type": "markdown",
      "metadata": {
        "id": "GPvA_8BsI9ZE"
      },
      "source": [
        "`map` can also be applied to more than one list as long as they are the same size:"
      ]
    },
    {
      "cell_type": "code",
      "execution_count": null,
      "metadata": {
        "id": "yHhyWs4rI9ZE",
        "outputId": "aab58613-347b-4e9e-c2dc-2f75a16c5bbd"
      },
      "outputs": [
        {
          "data": {
            "text/plain": [
              "[6, 6, 6, 6, 6]"
            ]
          },
          "execution_count": 9,
          "metadata": {},
          "output_type": "execute_result"
        }
      ],
      "source": [
        "a = [1, 2, 3, 4, 5]\n",
        "b = [5, 4, 3, 2, 1]\n",
        "\n",
        "a_plus_b = map(lambda x, y: x + y, a, b)\n",
        "list(a_plus_b)"
      ]
    },
    {
      "cell_type": "markdown",
      "metadata": {
        "id": "cf-gM0IiI9ZE"
      },
      "source": [
        "c) write a map that checks if elements are greater than zero"
      ]
    },
    {
      "cell_type": "code",
      "execution_count": null,
      "metadata": {
        "id": "0zRyzLbcI9ZE",
        "colab": {
          "base_uri": "https://localhost:8080/"
        },
        "outputId": "ae41c056-e95a-403e-c1f7-ef2769386551"
      },
      "outputs": [
        {
          "output_type": "execute_result",
          "data": {
            "text/plain": [
              "[False, False, False, True, True]"
            ]
          },
          "metadata": {},
          "execution_count": 70
        }
      ],
      "source": [
        "c = [-2, -1, 0, 1, 2]\n",
        "gt_zero = list(map(lambda x: x > 0, c))\n",
        "list(gt_zero)"
      ]
    },
    {
      "cell_type": "markdown",
      "metadata": {
        "id": "l5JxxQaTI9ZE"
      },
      "source": [
        "d) write a map that checks if elements are multiples of 3"
      ]
    },
    {
      "cell_type": "code",
      "execution_count": null,
      "metadata": {
        "id": "KyoJjeFbI9ZE",
        "colab": {
          "base_uri": "https://localhost:8080/"
        },
        "outputId": "dc477f2a-ea19-40da-8516-0ff31b0bd050"
      },
      "outputs": [
        {
          "output_type": "execute_result",
          "data": {
            "text/plain": [
              "[False, True, True, False, False]"
            ]
          },
          "metadata": {},
          "execution_count": 81
        }
      ],
      "source": [
        "d = [1, 3, 6, 11, 2]\n",
        "mul_of3 = list(map(lambda x: x % 3 == 0, d))\n",
        "list(mul_of3)"
      ]
    },
    {
      "cell_type": "markdown",
      "metadata": {
        "id": "sl8RqhPdI9ZE"
      },
      "source": [
        "#### Filter\n",
        "\n",
        "`filter(function, list)` returns a new list containing all the elements of `list` for which `function()` evaluates to `True.`\n",
        "\n",
        "e) write a filter that will only return even numbers in the list"
      ]
    },
    {
      "cell_type": "code",
      "execution_count": null,
      "metadata": {
        "id": "nGSycGEjI9ZF",
        "colab": {
          "base_uri": "https://localhost:8080/"
        },
        "outputId": "f4291667-ed15-40e4-8d9a-f2ef19868a27"
      },
      "outputs": [
        {
          "output_type": "execute_result",
          "data": {
            "text/plain": [
              "[2, 4, 6, 8, 10]"
            ]
          },
          "metadata": {},
          "execution_count": 83
        }
      ],
      "source": [
        "e = [1, 2, 3, 4, 5, 6, 7, 8, 9, 10]\n",
        "evens = filter(lambda x: x % 2 == 0, e)\n",
        "list(evens)"
      ]
    },
    {
      "cell_type": "markdown",
      "metadata": {
        "id": "EfDX5bWQI9ZF"
      },
      "source": [
        "#### Reduce\n",
        "\n",
        "`reduce(function, sequence[, initial])` returns the result of sequentially applying the function to the sequence (starting at an initial state). You can think of reduce as consuming the sequence via the function.\n",
        "\n",
        "For example, let's say we want to add all elements in a list. We could write the following:"
      ]
    },
    {
      "cell_type": "code",
      "execution_count": null,
      "metadata": {
        "id": "Q7sh9biNI9ZF",
        "outputId": "21b4d1d7-04ec-45e4-8394-b8885f521a37",
        "colab": {
          "base_uri": "https://localhost:8080/"
        }
      },
      "outputs": [
        {
          "output_type": "stream",
          "name": "stdout",
          "text": [
            "15\n"
          ]
        }
      ],
      "source": [
        "from functools import reduce\n",
        "\n",
        "nums = [1, 2, 3, 4, 5]\n",
        "sum_nums = reduce(lambda acc, x : acc + x, nums, 0)\n",
        "print(sum_nums)"
      ]
    },
    {
      "cell_type": "markdown",
      "metadata": {
        "id": "OSHZhCNcI9ZF"
      },
      "source": [
        "Let's walk through the steps of `reduce` above:\n",
        "\n",
        "1) the value of `acc` is set to 0 (our initial value)\n",
        "2) Apply the lambda function on `acc` and the first element of the list: `acc` = `acc` + 1 = 1\n",
        "3) `acc` = `acc` + 2 = 3\n",
        "4) `acc` = `acc` + 3 = 6\n",
        "5) `acc` = `acc` + 4 = 10\n",
        "6) `acc` = `acc` + 5 = 15\n",
        "7) return `acc`\n",
        "\n",
        "`acc` is short for `accumulator`.\n",
        "\n",
        "f) `*challenging` Using `reduce` write a function that returns the factorial of a number. (recall: N! (N factorial) = N * (N - 1) * (N - 2) * ... * 2 * 1)"
      ]
    },
    {
      "cell_type": "code",
      "execution_count": null,
      "metadata": {
        "id": "eqlnYdyuI9ZF",
        "colab": {
          "base_uri": "https://localhost:8080/"
        },
        "outputId": "06b535b6-63c1-4c5d-ae8b-d75101e52bba"
      },
      "outputs": [
        {
          "output_type": "execute_result",
          "data": {
            "text/plain": [
              "3628800"
            ]
          },
          "metadata": {},
          "execution_count": 19
        }
      ],
      "source": [
        "from functools import reduce\n",
        "factorial = lambda x : reduce(lambda x, y: x * y, range(1, x+1), 1)\n",
        "factorial(10)"
      ]
    },
    {
      "cell_type": "markdown",
      "metadata": {
        "id": "K4JxHEfVI9ZF"
      },
      "source": [
        "g) `*challenging` Using `reduce` and `filter`, write a function that returns all the primes below a certain number"
      ]
    },
    {
      "cell_type": "code",
      "execution_count": null,
      "metadata": {
        "id": "jIuEJq06I9ZF",
        "colab": {
          "base_uri": "https://localhost:8080/"
        },
        "outputId": "d3385292-f867-4586-9f46-2fb74a2473ee"
      },
      "outputs": [
        {
          "output_type": "stream",
          "name": "stdout",
          "text": [
            "[2, 3, 5, 7, 11, 13, 17, 19, 23, 29, 31, 37, 41, 43, 47, 53, 59, 61, 67, 71, 73, 79, 83, 89, 97]\n"
          ]
        }
      ],
      "source": [
        "from functools import reduce\n",
        "sieve = lambda x : reduce(lambda acc, y: list(filter(lambda z: (z==y) or (z % y != 0), acc)), [i for i in range(2, x+1)], [i for i in range(2, x+1)])\n",
        "print(sieve(100))"
      ]
    },
    {
      "cell_type": "markdown",
      "metadata": {
        "id": "YTzBq3m9I9ZF"
      },
      "source": [
        "### What is going on?\n",
        "\n",
        "For each of the following code snippets, explain why the result may be unexpected and why the output is what it is:"
      ]
    },
    {
      "cell_type": "code",
      "execution_count": null,
      "metadata": {
        "id": "w2cUdSP1I9ZF",
        "outputId": "f2e6f385-c289-4324-a2cf-0bb7905cc589",
        "colab": {
          "base_uri": "https://localhost:8080/"
        }
      },
      "outputs": [
        {
          "output_type": "stream",
          "name": "stdout",
          "text": [
            "OVERDRAWN\n"
          ]
        }
      ],
      "source": [
        "class Bank:\n",
        "  def __init__(self, balance):\n",
        "    self.balance = balance\n",
        "\n",
        "  def is_overdrawn(self):\n",
        "    return self.balance < 0\n",
        "\n",
        "myBank = Bank(100)\n",
        "if myBank.is_overdrawn :\n",
        "  print(\"OVERDRAWN\")\n",
        "else:\n",
        "  print(\"ALL GOOD\")"
      ]
    },
    {
      "cell_type": "markdown",
      "metadata": {
        "id": "66mMBn2yI9ZG"
      },
      "source": [
        "The result is OVERDRAWN since the statement does not call the method correctly, there is one parentheses \"()\" missing after myBank.is_overdrawn. And the condition \"myBank.is_overdrawn\" is always True because it's checking if the method \"is_overdrawn\" exists, which it does."
      ]
    },
    {
      "cell_type": "code",
      "execution_count": null,
      "metadata": {
        "id": "GpvAKS0hI9ZU",
        "outputId": "d32036ab-c0d6-4462-8722-854850883c8f",
        "colab": {
          "base_uri": "https://localhost:8080/"
        }
      },
      "outputs": [
        {
          "output_type": "stream",
          "name": "stdout",
          "text": [
            "0\n",
            "1\n",
            "2\n",
            "3\n"
          ]
        }
      ],
      "source": [
        "for i in range(4):\n",
        "    print(i)\n",
        "    i = 10"
      ]
    },
    {
      "cell_type": "markdown",
      "metadata": {
        "id": "KMK7MzASI9ZU"
      },
      "source": [
        "re-assigning i to 10 within the loop doesn't change the behavior of the loop itself. The loop iterates based on the range specified, and re-assigning i to 10 inside the loop does not affect the loop's progression through the range."
      ]
    },
    {
      "cell_type": "code",
      "execution_count": 1,
      "metadata": {
        "id": "i8QxvjlQI9ZU",
        "outputId": "b7067767-24ff-48fd-affb-88d729263f74",
        "colab": {
          "base_uri": "https://localhost:8080/"
        }
      },
      "outputs": [
        {
          "output_type": "stream",
          "name": "stdout",
          "text": [
            "[['', '', ''], ['', '', ''], ['', '', '']]\n",
            "[['X', '', ''], ['X', '', ''], ['X', '', '']]\n"
          ]
        }
      ],
      "source": [
        "row = [\"\"] * 3 # row i['', '', '']\n",
        "board = [row] * 3\n",
        "print(board) # [['', '', ''], ['', '', ''], ['', '', '']]\n",
        "board[0][0] = \"X\"\n",
        "print(board)"
      ]
    },
    {
      "cell_type": "markdown",
      "metadata": {
        "id": "Blz6aAqMI9ZU"
      },
      "source": [
        "changing board[0][0] to \"X\" not only affects the first row but also affects the same position in all rows because all three sublists are references to the same row object, this modification affects all three sublists."
      ]
    },
    {
      "cell_type": "code",
      "execution_count": null,
      "metadata": {
        "id": "pwIY0IZ1I9ZU",
        "outputId": "7a388800-c181-46f9-ffd1-05b0dd4cdbe2",
        "colab": {
          "base_uri": "https://localhost:8080/"
        }
      },
      "outputs": [
        {
          "output_type": "stream",
          "name": "stdout",
          "text": [
            "[0, 1, 2]\n",
            "[2, 2, 2]\n"
          ]
        }
      ],
      "source": [
        "funcs = []\n",
        "results = []\n",
        "for x in range(3):\n",
        "    def some_func():\n",
        "        return x\n",
        "    funcs.append(some_func)\n",
        "    results.append(some_func())  # note the function call here\n",
        "\n",
        "funcs_results = [func() for func in funcs]\n",
        "print(results) # [0,1,2]\n",
        "print(funcs_results)"
      ]
    },
    {
      "cell_type": "markdown",
      "metadata": {
        "id": "sklPRLTjI9ZV"
      },
      "source": [
        "The first print is [0,1,2], because in each iteration of the loop function some_func() is called. The some_func returns value x which is the currect iteration, so result is [0,1,2].\n",
        "The next prints[2,2,2] because the variable funcs_results is created outside the loop and the functions in funcs list reference the last element x = 2 when the loop ends. Therefore, all x in funcs_results ends up 2."
      ]
    },
    {
      "cell_type": "code",
      "execution_count": null,
      "metadata": {
        "id": "4SbtBWjYI9ZV",
        "outputId": "7537d321-8f48-4988-c173-88ef9b3d97b2",
        "colab": {
          "base_uri": "https://localhost:8080/"
        }
      },
      "outputs": [
        {
          "output_type": "stream",
          "name": "stdout",
          "text": [
            "0\n"
          ]
        }
      ],
      "source": [
        "f = open(\"./data.txt\", \"w+\")\n",
        "f.write(\"1,2,3,4,5\")\n",
        "f.close()\n",
        "\n",
        "nums = []\n",
        "with open(\"./data.txt\", \"w+\") as f:\n",
        "  lines = f.readlines()\n",
        "  for line in lines:\n",
        "    nums += [int(x) for x in line.split(\",\")]\n",
        "\n",
        "print(sum(nums))"
      ]
    },
    {
      "cell_type": "markdown",
      "metadata": {
        "id": "ySw44yyTI9ZV"
      },
      "source": [
        "Since the f is opened with \"w+\" mode, which means open the file with write mode, the lines after open the f will be empty(because f.readlines). Hence for the loop, \"line\" is empty, so nums sum of empty list, is 0."
      ]
    }
  ],
  "metadata": {
    "interpreter": {
      "hash": "e7370f93d1d0cde622a1f8e1c04877d8463912d04d973331ad4851f04de6915a"
    },
    "kernelspec": {
      "display_name": "Python 3 (ipykernel)",
      "language": "python",
      "name": "python3"
    },
    "language_info": {
      "codemirror_mode": {
        "name": "ipython",
        "version": 3
      },
      "file_extension": ".py",
      "mimetype": "text/x-python",
      "name": "python",
      "nbconvert_exporter": "python",
      "pygments_lexer": "ipython3",
      "version": "3.11.1"
    },
    "colab": {
      "provenance": [],
      "include_colab_link": true
    }
  },
  "nbformat": 4,
  "nbformat_minor": 0
}