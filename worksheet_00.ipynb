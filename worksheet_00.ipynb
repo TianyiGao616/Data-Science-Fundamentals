{
  "cells": [
    {
      "cell_type": "markdown",
      "metadata": {
        "id": "view-in-github",
        "colab_type": "text"
      },
      "source": [
        "<a href=\"https://colab.research.google.com/github/TianyiGao616/Data-Science-Fundamentals/blob/main/worksheet_00.ipynb\" target=\"_parent\"><img src=\"https://colab.research.google.com/assets/colab-badge.svg\" alt=\"Open In Colab\"/></a>"
      ]
    },
    {
      "cell_type": "markdown",
      "metadata": {
        "id": "et1xTrFwI9Y9"
      },
      "source": [
        "# Worksheet 00\n",
        "\n",
        "Name:  Tianyi Gao\n",
        "UID: U02937883\n",
        "\n",
        "### Topics\n",
        "\n",
        "- course overview\n",
        "- python review\n",
        "\n",
        "### Course Overview\n",
        "\n",
        "a) Why are you taking this course?\n",
        "1. I heard many of upper classes friends said this course is very useful and they learnd a lot, so I want to take this course to fullfill the elective course requirment.\n",
        "2. Since I want to get to a lab this year, I need to get some data analysis skills to improve data analyse skill."
      ]
    },
    {
      "cell_type": "markdown",
      "metadata": {
        "id": "oTkG-ViKI9Y_"
      },
      "source": []
    },
    {
      "cell_type": "markdown",
      "metadata": {
        "id": "n43HIcjFI9ZA"
      },
      "source": [
        "b) What are your academic and professional goals for this semester?"
      ]
    },
    {
      "cell_type": "markdown",
      "metadata": {
        "id": "Ah2DnxkkI9ZA"
      },
      "source": []
    },
    {
      "cell_type": "markdown",
      "metadata": {
        "id": "wm5bchEmI9ZA"
      },
      "source": [
        "c) Do you have previous Data Science experience? If so, please expand."
      ]
    },
    {
      "cell_type": "markdown",
      "metadata": {
        "id": "I6s5TztEI9ZA"
      },
      "source": []
    },
    {
      "cell_type": "markdown",
      "metadata": {
        "id": "34CwPjrVI9ZA"
      },
      "source": [
        "d) Data Science is a combination of programming, math (linear algebra and calculus), and statistics. Which of these three do you struggle with the most (you may pick more than one)?"
      ]
    },
    {
      "cell_type": "markdown",
      "metadata": {
        "id": "jsXnoAZaI9ZA"
      },
      "source": []
    },
    {
      "cell_type": "markdown",
      "metadata": {
        "id": "ey-yuRZzI9ZA"
      },
      "source": [
        "### Python review\n",
        "\n",
        "#### Lambda functions\n",
        "\n",
        "Python supports the creation of anonymous functions (i.e. functions that are not bound to a name) at runtime, using a construct called `lambda`. Instead of writing a named function as such:"
      ]
    },
    {
      "cell_type": "code",
      "execution_count": null,
      "metadata": {
        "id": "vExJ0Ux5I9ZB",
        "outputId": "996ae44b-84f2-4118-f5d5-f1b0f6b1afe0"
      },
      "outputs": [
        {
          "data": {
            "text/plain": [
              "64"
            ]
          },
          "execution_count": 1,
          "metadata": {},
          "output_type": "execute_result"
        }
      ],
      "source": [
        "def f(x):\n",
        "    return x**2\n",
        "f(8)"
      ]
    },
    {
      "cell_type": "markdown",
      "metadata": {
        "id": "wC6nbq-VI9ZC"
      },
      "source": [
        "One can write an anonymous function as such:"
      ]
    },
    {
      "cell_type": "code",
      "execution_count": null,
      "metadata": {
        "id": "nx4R1W8TI9ZC",
        "outputId": "0a59942f-ae75-430a-9f05-e1b2ce58e4f2"
      },
      "outputs": [
        {
          "data": {
            "text/plain": [
              "64"
            ]
          },
          "execution_count": 2,
          "metadata": {},
          "output_type": "execute_result"
        }
      ],
      "source": [
        "(lambda x: x**2)(8)"
      ]
    },
    {
      "cell_type": "markdown",
      "metadata": {
        "id": "wWikpd5tI9ZC"
      },
      "source": [
        "A `lambda` function can take multiple arguments:"
      ]
    },
    {
      "cell_type": "code",
      "execution_count": null,
      "metadata": {
        "id": "4ishOlpzI9ZD",
        "outputId": "7e0ff466-42fa-4b5a-f089-b6ee34ea4942"
      },
      "outputs": [
        {
          "data": {
            "text/plain": [
              "5"
            ]
          },
          "execution_count": 3,
          "metadata": {},
          "output_type": "execute_result"
        }
      ],
      "source": [
        "(lambda x, y : x + y)(2, 3)"
      ]
    },
    {
      "cell_type": "markdown",
      "metadata": {
        "id": "_-0NzbJlI9ZD"
      },
      "source": [
        "The arguments can be `lambda` functions themselves:"
      ]
    },
    {
      "cell_type": "code",
      "execution_count": null,
      "metadata": {
        "id": "NBMOuy9_I9ZD",
        "outputId": "d3757906-7c98-4f4a-998d-fcb34f0a3cf8"
      },
      "outputs": [
        {
          "data": {
            "text/plain": [
              "5"
            ]
          },
          "execution_count": 4,
          "metadata": {},
          "output_type": "execute_result"
        }
      ],
      "source": [
        "(lambda x : x(3))(lambda y: 2 + y)"
      ]
    },
    {
      "cell_type": "markdown",
      "metadata": {
        "id": "eEaqXoW8I9ZD"
      },
      "source": [
        "a) write a `lambda` function that takes three arguments `x, y, z` and returns `True` only if `x < y < z`."
      ]
    },
    {
      "cell_type": "code",
      "execution_count": null,
      "metadata": {
        "id": "h34Wotb7I9ZD"
      },
      "outputs": [],
      "source": []
    },
    {
      "cell_type": "markdown",
      "metadata": {
        "id": "PI_hPyqkI9ZD"
      },
      "source": [
        "b) write a `lambda` function that takes a parameter `n` and returns a lambda function that will multiply any input it receives by `n`. For example, if we called this function `g`, then `g(n)(2) = 2n`"
      ]
    },
    {
      "cell_type": "code",
      "execution_count": null,
      "metadata": {
        "id": "gupylUqzI9ZD"
      },
      "outputs": [],
      "source": []
    },
    {
      "cell_type": "markdown",
      "metadata": {
        "id": "r_Pyx3erI9ZD"
      },
      "source": [
        "#### Map\n",
        "\n",
        "`map(func, s)`\n",
        "\n",
        "`func` is a function and `s` is a sequence (e.g., a list).\n",
        "\n",
        "`map()` returns an object that will apply function `func` to each of the elements of `s`.\n",
        "\n",
        "For example if you want to multiply every element in a list by 2 you can write the following:"
      ]
    },
    {
      "cell_type": "code",
      "execution_count": null,
      "metadata": {
        "id": "xLfApJEoI9ZD",
        "outputId": "db2b5f8c-0250-4d12-a7dc-11ddf5a08169"
      },
      "outputs": [
        {
          "name": "stdout",
          "output_type": "stream",
          "text": [
            "[2, 4, 6, 8, 10]\n"
          ]
        }
      ],
      "source": [
        "mylist = [1, 2, 3, 4, 5]\n",
        "mylist_mul_by_2 = map(lambda x : 2 * x, mylist)\n",
        "print(list(mylist_mul_by_2))"
      ]
    },
    {
      "cell_type": "markdown",
      "metadata": {
        "id": "GPvA_8BsI9ZE"
      },
      "source": [
        "`map` can also be applied to more than one list as long as they are the same size:"
      ]
    },
    {
      "cell_type": "code",
      "execution_count": null,
      "metadata": {
        "id": "yHhyWs4rI9ZE",
        "outputId": "aab58613-347b-4e9e-c2dc-2f75a16c5bbd"
      },
      "outputs": [
        {
          "data": {
            "text/plain": [
              "[6, 6, 6, 6, 6]"
            ]
          },
          "execution_count": 9,
          "metadata": {},
          "output_type": "execute_result"
        }
      ],
      "source": [
        "a = [1, 2, 3, 4, 5]\n",
        "b = [5, 4, 3, 2, 1]\n",
        "\n",
        "a_plus_b = map(lambda x, y: x + y, a, b)\n",
        "list(a_plus_b)"
      ]
    },
    {
      "cell_type": "markdown",
      "metadata": {
        "id": "cf-gM0IiI9ZE"
      },
      "source": [
        "c) write a map that checks if elements are greater than zero"
      ]
    },
    {
      "cell_type": "code",
      "execution_count": null,
      "metadata": {
        "id": "0zRyzLbcI9ZE"
      },
      "outputs": [],
      "source": [
        "c = [-2, -1, 0, 1, 2]\n",
        "gt_zero = map()\n",
        "list(gt_zero)"
      ]
    },
    {
      "cell_type": "markdown",
      "metadata": {
        "id": "l5JxxQaTI9ZE"
      },
      "source": [
        "d) write a map that checks if elements are multiples of 3"
      ]
    },
    {
      "cell_type": "code",
      "execution_count": null,
      "metadata": {
        "id": "KyoJjeFbI9ZE"
      },
      "outputs": [],
      "source": [
        "d = [1, 3, 6, 11, 2]\n",
        "mul_of3 = map()\n",
        "list(mul_of3)"
      ]
    },
    {
      "cell_type": "markdown",
      "metadata": {
        "id": "sl8RqhPdI9ZE"
      },
      "source": [
        "#### Filter\n",
        "\n",
        "`filter(function, list)` returns a new list containing all the elements of `list` for which `function()` evaluates to `True.`\n",
        "\n",
        "e) write a filter that will only return even numbers in the list"
      ]
    },
    {
      "cell_type": "code",
      "execution_count": null,
      "metadata": {
        "id": "nGSycGEjI9ZF"
      },
      "outputs": [],
      "source": [
        "e = [1, 2, 3, 4, 5, 6, 7, 8, 9, 10]\n",
        "evens = filter()\n",
        "list(evens)"
      ]
    },
    {
      "cell_type": "markdown",
      "metadata": {
        "id": "EfDX5bWQI9ZF"
      },
      "source": [
        "#### Reduce\n",
        "\n",
        "`reduce(function, sequence[, initial])` returns the result of sequentially applying the function to the sequence (starting at an initial state). You can think of reduce as consuming the sequence via the function.\n",
        "\n",
        "For example, let's say we want to add all elements in a list. We could write the following:"
      ]
    },
    {
      "cell_type": "code",
      "execution_count": null,
      "metadata": {
        "id": "Q7sh9biNI9ZF",
        "outputId": "d6eedb56-37e1-4632-df84-14c12d998a6c"
      },
      "outputs": [
        {
          "name": "stdout",
          "output_type": "stream",
          "text": [
            "15\n"
          ]
        }
      ],
      "source": [
        "from functools import reduce\n",
        "\n",
        "nums = [1, 2, 3, 4, 5]\n",
        "sum_nums = reduce(lambda acc, x : acc + x, nums, 0)\n",
        "print(sum_nums)"
      ]
    },
    {
      "cell_type": "markdown",
      "metadata": {
        "id": "OSHZhCNcI9ZF"
      },
      "source": [
        "Let's walk through the steps of `reduce` above:\n",
        "\n",
        "1) the value of `acc` is set to 0 (our initial value)\n",
        "2) Apply the lambda function on `acc` and the first element of the list: `acc` = `acc` + 1 = 1\n",
        "3) `acc` = `acc` + 2 = 3\n",
        "4) `acc` = `acc` + 3 = 6\n",
        "5) `acc` = `acc` + 4 = 10\n",
        "6) `acc` = `acc` + 5 = 15\n",
        "7) return `acc`\n",
        "\n",
        "`acc` is short for `accumulator`.\n",
        "\n",
        "f) `*challenging` Using `reduce` write a function that returns the factorial of a number. (recall: N! (N factorial) = N * (N - 1) * (N - 2) * ... * 2 * 1)"
      ]
    },
    {
      "cell_type": "code",
      "execution_count": null,
      "metadata": {
        "id": "eqlnYdyuI9ZF"
      },
      "outputs": [],
      "source": [
        "factorial = lambda x : reduce()\n",
        "factorial(10)"
      ]
    },
    {
      "cell_type": "markdown",
      "metadata": {
        "id": "K4JxHEfVI9ZF"
      },
      "source": [
        "g) `*challenging` Using `reduce` and `filter`, write a function that returns all the primes below a certain number"
      ]
    },
    {
      "cell_type": "code",
      "execution_count": null,
      "metadata": {
        "id": "jIuEJq06I9ZF"
      },
      "outputs": [],
      "source": [
        "sieve = lambda x : reduce()\n",
        "print(sieve(100))"
      ]
    },
    {
      "cell_type": "markdown",
      "metadata": {
        "id": "YTzBq3m9I9ZF"
      },
      "source": [
        "### What is going on?\n",
        "\n",
        "For each of the following code snippets, explain why the result may be unexpected and why the output is what it is:"
      ]
    },
    {
      "cell_type": "code",
      "execution_count": null,
      "metadata": {
        "id": "w2cUdSP1I9ZF",
        "outputId": "6a3a9d56-d67d-4ba5-d73c-3f2a11f88ab4"
      },
      "outputs": [
        {
          "name": "stdout",
          "output_type": "stream",
          "text": [
            "OVERDRAWN\n"
          ]
        }
      ],
      "source": [
        "class Bank:\n",
        "  def __init__(self, balance):\n",
        "    self.balance = balance\n",
        "\n",
        "  def is_overdrawn(self):\n",
        "    return self.balance < 0\n",
        "\n",
        "myBank = Bank(100)\n",
        "if myBank.is_overdrawn :\n",
        "  print(\"OVERDRAWN\")\n",
        "else:\n",
        "  print(\"ALL GOOD\")"
      ]
    },
    {
      "cell_type": "markdown",
      "metadata": {
        "id": "66mMBn2yI9ZG"
      },
      "source": []
    },
    {
      "cell_type": "code",
      "execution_count": null,
      "metadata": {
        "id": "GpvAKS0hI9ZU",
        "outputId": "632d1ed4-89d9-4bec-9090-a6becee59a8e"
      },
      "outputs": [
        {
          "name": "stdout",
          "output_type": "stream",
          "text": [
            "0\n",
            "1\n",
            "2\n",
            "3\n"
          ]
        }
      ],
      "source": [
        "for i in range(4):\n",
        "    print(i)\n",
        "    i = 10"
      ]
    },
    {
      "cell_type": "markdown",
      "metadata": {
        "id": "KMK7MzASI9ZU"
      },
      "source": []
    },
    {
      "cell_type": "code",
      "execution_count": null,
      "metadata": {
        "id": "i8QxvjlQI9ZU",
        "outputId": "9881d590-8044-4af1-9449-aedd27a23afb"
      },
      "outputs": [
        {
          "name": "stdout",
          "output_type": "stream",
          "text": [
            "[['', '', ''], ['', '', ''], ['', '', '']]\n",
            "[['X', '', ''], ['X', '', ''], ['X', '', '']]\n"
          ]
        }
      ],
      "source": [
        "row = [\"\"] * 3 # row i['', '', '']\n",
        "board = [row] * 3\n",
        "print(board) # [['', '', ''], ['', '', ''], ['', '', '']]\n",
        "board[0][0] = \"X\"\n",
        "print(board)"
      ]
    },
    {
      "cell_type": "markdown",
      "metadata": {
        "id": "Blz6aAqMI9ZU"
      },
      "source": []
    },
    {
      "cell_type": "code",
      "execution_count": null,
      "metadata": {
        "id": "pwIY0IZ1I9ZU",
        "outputId": "54875357-ecbb-4423-b044-c2354299b5df"
      },
      "outputs": [
        {
          "name": "stdout",
          "output_type": "stream",
          "text": [
            "[0, 1, 2]\n",
            "[2, 2, 2]\n"
          ]
        }
      ],
      "source": [
        "funcs = []\n",
        "results = []\n",
        "for x in range(3):\n",
        "    def some_func():\n",
        "        return x\n",
        "    funcs.append(some_func)\n",
        "    results.append(some_func())  # note the function call here\n",
        "\n",
        "funcs_results = [func() for func in funcs]\n",
        "print(results) # [0,1,2]\n",
        "print(funcs_results)"
      ]
    },
    {
      "cell_type": "markdown",
      "metadata": {
        "id": "sklPRLTjI9ZV"
      },
      "source": []
    },
    {
      "cell_type": "code",
      "execution_count": null,
      "metadata": {
        "id": "4SbtBWjYI9ZV",
        "outputId": "d57dcba6-ae64-4b28-9598-ee3540e4e7f5"
      },
      "outputs": [
        {
          "name": "stdout",
          "output_type": "stream",
          "text": [
            "0\n"
          ]
        }
      ],
      "source": [
        "f = open(\"./data.txt\", \"w+\")\n",
        "f.write(\"1,2,3,4,5\")\n",
        "f.close()\n",
        "\n",
        "nums = []\n",
        "with open(\"./data.txt\", \"w+\") as f:\n",
        "  lines = f.readlines()\n",
        "  for line in lines:\n",
        "    nums += [int(x) for x in line.split(\",\")]\n",
        "\n",
        "print(sum(nums))"
      ]
    },
    {
      "cell_type": "markdown",
      "metadata": {
        "id": "ySw44yyTI9ZV"
      },
      "source": []
    }
  ],
  "metadata": {
    "interpreter": {
      "hash": "e7370f93d1d0cde622a1f8e1c04877d8463912d04d973331ad4851f04de6915a"
    },
    "kernelspec": {
      "display_name": "Python 3 (ipykernel)",
      "language": "python",
      "name": "python3"
    },
    "language_info": {
      "codemirror_mode": {
        "name": "ipython",
        "version": 3
      },
      "file_extension": ".py",
      "mimetype": "text/x-python",
      "name": "python",
      "nbconvert_exporter": "python",
      "pygments_lexer": "ipython3",
      "version": "3.11.1"
    },
    "colab": {
      "provenance": [],
      "include_colab_link": true
    }
  },
  "nbformat": 4,
  "nbformat_minor": 0
}